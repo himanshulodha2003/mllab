{
 "cells": [
  {
   "cell_type": "code",
   "execution_count": 13,
   "id": "dece1012-1938-4747-97e6-4c376611bb57",
   "metadata": {},
   "outputs": [
    {
     "name": "stdout",
     "output_type": "stream",
     "text": [
      "Training Labels:  [2 1 2 2 2 2 1 2 1 2 2 2 0 1 2 1 1 1 1 1 0 1 2 1 0 1 0 1 1 1 0 1 0 1 0 2 2\n",
      " 2 0 2 1 2 0 0 1 0 2 2 2 2 0 1 0 1 1 1 2 0 1 0 1 2 1 0 0 0 2 2 0 1 1 1 0 0\n",
      " 0 0 2 0 2 0 0 2 2 2 0 2 1 1 2 1 1 1 1 2 0 1 0 1 0 0 0 2 1 0 0 1 2 2 2 2 0\n",
      " 1 2 0 2 1 2 2 0 0]\n",
      "Target: setosa, Predicted: ['setosa']\n",
      "Target: setosa, Predicted: ['setosa']\n",
      "Target: setosa, Predicted: ['setosa']\n",
      "Target: virginica, Predicted: ['virginica']\n",
      "Target: versicolor, Predicted: ['versicolor']\n",
      "Target: versicolor, Predicted: ['versicolor']\n",
      "Target: virginica, Predicted: ['virginica']\n",
      "Target: virginica, Predicted: ['virginica']\n",
      "Target: versicolor, Predicted: ['versicolor']\n",
      "Target: virginica, Predicted: ['virginica']\n",
      "Target: setosa, Predicted: ['setosa']\n",
      "Target: virginica, Predicted: ['virginica']\n",
      "Target: versicolor, Predicted: ['versicolor']\n",
      "Target: versicolor, Predicted: ['versicolor']\n",
      "Target: setosa, Predicted: ['setosa']\n",
      "Target: versicolor, Predicted: ['versicolor']\n",
      "Target: setosa, Predicted: ['setosa']\n",
      "Target: setosa, Predicted: ['setosa']\n",
      "Target: setosa, Predicted: ['setosa']\n",
      "Target: versicolor, Predicted: ['virginica']\n",
      "Target: virginica, Predicted: ['virginica']\n",
      "Target: setosa, Predicted: ['setosa']\n",
      "Target: setosa, Predicted: ['setosa']\n",
      "Target: setosa, Predicted: ['setosa']\n",
      "Target: virginica, Predicted: ['virginica']\n",
      "Target: virginica, Predicted: ['virginica']\n",
      "Target: versicolor, Predicted: ['virginica']\n",
      "Target: virginica, Predicted: ['virginica']\n",
      "Target: setosa, Predicted: ['setosa']\n",
      "Target: versicolor, Predicted: ['versicolor']\n",
      "Accuracy Score:  0.9333333333333333\n"
     ]
    }
   ],
   "source": [
    "from sklearn.neighbors import KNeighborsClassifier\n",
    "from sklearn.datasets import load_iris\n",
    "from sklearn.model_selection import train_test_split\n",
    "from sklearn.metrics import accuracy_score\n",
    "import numpy as np\n",
    "\n",
    "\n",
    "dataset=load_iris()\n",
    "\n",
    "X_train,X_test,y_train,y_test=train_test_split(dataset.data,dataset.target,test_size=0.2,random_state=30)\n",
    "\n",
    "print(\"Training Labels: \",y_train)\n",
    "model=KNeighborsClassifier(n_neighbors=3)\n",
    "model.fit(X_train,y_train)\n",
    "\n",
    "for i in range(len(X_test)):\n",
    "    x=X_test[i]\n",
    "    x_new=np.array([x])\n",
    "    y_pred=model.predict(x_new)\n",
    "\n",
    "    print(f\"Target: {dataset.target_names[y_test[i]]}, Predicted: {dataset.target_names[y_pred]}\")\n",
    "\n",
    "\n",
    "accuracy=model.score(X_test,y_test)\n",
    "print(\"Accuracy Score: \",accuracy)"
   ]
  },
  {
   "cell_type": "code",
   "execution_count": null,
   "id": "d99e9b64-2679-42d1-88f2-a4f0ad7a8bb4",
   "metadata": {},
   "outputs": [],
   "source": []
  }
 ],
 "metadata": {
  "kernelspec": {
   "display_name": "Python 3 (ipykernel)",
   "language": "python",
   "name": "python3"
  },
  "language_info": {
   "codemirror_mode": {
    "name": "ipython",
    "version": 3
   },
   "file_extension": ".py",
   "mimetype": "text/x-python",
   "name": "python",
   "nbconvert_exporter": "python",
   "pygments_lexer": "ipython3",
   "version": "3.11.7"
  }
 },
 "nbformat": 4,
 "nbformat_minor": 5
}
