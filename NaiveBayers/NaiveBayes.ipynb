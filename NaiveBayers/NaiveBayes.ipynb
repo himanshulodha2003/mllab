{
 "cells": [
  {
   "cell_type": "code",
   "execution_count": 17,
   "id": "4914b5f8-2d01-4075-96b6-5d84458b9c9d",
   "metadata": {},
   "outputs": [
    {
     "name": "stdout",
     "output_type": "stream",
     "text": [
      "Data Before Encoding\n",
      "     Outlook Temperature Humidity    Wind Tennis\n",
      "0     Sunny         Hot     High    Weak     No\n",
      "1     Sunny         Hot     High  Strong     No\n",
      "2  Overcast         Hot     High    Weak    Yes\n",
      "3      Rain        Mild     High    Weak    Yes\n",
      "4      Rain        Cool   Normal    Weak    Yes\n",
      "Features Before Encoding\n",
      "     Outlook Temperature Humidity    Wind\n",
      "0     Sunny         Hot     High    Weak\n",
      "1     Sunny         Hot     High  Strong\n",
      "2  Overcast         Hot     High    Weak\n",
      "3      Rain        Mild     High    Weak\n",
      "4      Rain        Cool   Normal    Weak\n",
      "Target Before Encoding\n",
      " 0     No\n",
      "1     No\n",
      "2    Yes\n",
      "3    Yes\n",
      "4    Yes\n",
      "Name: Tennis, dtype: object\n",
      "Features After Encoding\n",
      "    Outlook  Temperature  Humidity  Wind\n",
      "0        2            1         0     1\n",
      "1        2            1         0     0\n",
      "2        0            1         0     1\n",
      "3        1            2         0     1\n",
      "4        1            0         1     1\n",
      "Actual Label:  [0 1 0 1 1]\n",
      "Predicted Label:  [1 1 1 1 1]\n",
      "Confusion Matrix: \n",
      " [[0 2]\n",
      " [0 3]]\n",
      "Accuracy Score:  60.0\n"
     ]
    }
   ],
   "source": [
    "from sklearn.naive_bayes import GaussianNB\n",
    "from sklearn.model_selection import train_test_split\n",
    "import numpy as np\n",
    "from sklearn.preprocessing import LabelEncoder\n",
    "import pandas as pd\n",
    "from sklearn.metrics import confusion_matrix,accuracy_score\n",
    "\n",
    "dataset=pd.read_csv('tennis.csv')\n",
    "X=dataset.iloc[:,0:-1].copy()\n",
    "y=dataset.iloc[:,-1]\n",
    "\n",
    "print(\"Data Before Encoding\\n\",dataset.head())\n",
    "print(\"Features Before Encoding\\n\",X.head())\n",
    "print(\"Target Before Encoding\\n\",y.head())\n",
    "\n",
    "\n",
    "label_encoder={}\n",
    "\n",
    "for column in X.columns:\n",
    "    le=LabelEncoder()\n",
    "    X[column]=le.fit_transform(X[column])\n",
    "    label_encoder[column]=le\n",
    "\n",
    "print(\"Features After Encoding\\n\",X.head())\n",
    "\n",
    "target_encoder=LabelEncoder()\n",
    "y=target_encoder.fit_transform(y)\n",
    "\n",
    "\n",
    "X_train,X_test,y_train,y_test=train_test_split(X,y,test_size=0.30)\n",
    "model=GaussianNB()\n",
    "model.fit(X_train,y_train)\n",
    "\n",
    "y_pred=model.predict(X_test)\n",
    "\n",
    "print(\"Actual Label: \",y_test)\n",
    "print(\"Predicted Label: \",y_pred)\n",
    "print(\"Confusion Matrix: \\n\",confusion_matrix(y_test,y_pred))\n",
    "print(\"Accuracy Score: \",accuracy_score(y_test,y_pred)*100)"
   ]
  },
  {
   "cell_type": "code",
   "execution_count": null,
   "id": "09b00f73-6d18-4fb1-930a-16fd7cd9bc92",
   "metadata": {},
   "outputs": [],
   "source": []
  }
 ],
 "metadata": {
  "kernelspec": {
   "display_name": "Python 3 (ipykernel)",
   "language": "python",
   "name": "python3"
  },
  "language_info": {
   "codemirror_mode": {
    "name": "ipython",
    "version": 3
   },
   "file_extension": ".py",
   "mimetype": "text/x-python",
   "name": "python",
   "nbconvert_exporter": "python",
   "pygments_lexer": "ipython3",
   "version": "3.11.7"
  }
 },
 "nbformat": 4,
 "nbformat_minor": 5
}
