{
 "cells": [
  {
   "cell_type": "code",
   "execution_count": 25,
   "id": "72fa2971-ffa0-42ee-bdaa-b5c035c45c2a",
   "metadata": {},
   "outputs": [
    {
     "name": "stdout",
     "output_type": "stream",
     "text": [
      "Initial Specific Hypothesis:\n",
      " ['Sunny' 'Warm' 'Normal' 'Strong' 'Warm' 'Same']\n",
      "General Hypothesis:\n",
      " [['?', '?', '?', '?', '?', '?'], ['?', '?', '?', '?', '?', '?'], ['?', '?', '?', '?', '?', '?'], ['?', '?', '?', '?', '?', '?'], ['?', '?', '?', '?', '?', '?'], ['?', '?', '?', '?', '?', '?']]\n",
      "If Instance is Postivie\n",
      " step1: \n",
      "Specific hypothesis:  ['Sunny' 'Warm' 'Normal' 'Strong' 'Warm' 'Same']\n",
      "General Hypothesis:  [['?', '?', '?', '?', '?', '?'], ['?', '?', '?', '?', '?', '?'], ['?', '?', '?', '?', '?', '?'], ['?', '?', '?', '?', '?', '?'], ['?', '?', '?', '?', '?', '?'], ['?', '?', '?', '?', '?', '?']]\n",
      "If Instance is Postivie\n",
      " step2: \n",
      "Specific hypothesis:  ['Sunny' 'Warm' '?' 'Strong' 'Warm' 'Same']\n",
      "General Hypothesis:  [['?', '?', '?', '?', '?', '?'], ['?', '?', '?', '?', '?', '?'], ['?', '?', '?', '?', '?', '?'], ['?', '?', '?', '?', '?', '?'], ['?', '?', '?', '?', '?', '?'], ['?', '?', '?', '?', '?', '?']]\n",
      "If Instance is Negative\n",
      " step3: \n",
      "Specific hypothesis:  ['Sunny' 'Warm' '?' 'Strong' 'Warm' 'Same']\n",
      "General Hypothesis:  [['Sunny', '?', '?', '?', '?', '?'], ['?', 'Warm', '?', '?', '?', '?'], ['?', '?', '?', '?', '?', '?'], ['?', '?', '?', '?', '?', '?'], ['?', '?', '?', '?', '?', '?'], ['?', '?', '?', '?', '?', 'Same']]\n",
      "If Instance is Postivie\n",
      " step4: \n",
      "Specific hypothesis:  ['Sunny' 'Warm' '?' 'Strong' '?' '?']\n",
      "General Hypothesis:  [['Sunny', '?', '?', '?', '?', '?'], ['?', 'Warm', '?', '?', '?', '?'], ['?', '?', '?', '?', '?', '?'], ['?', '?', '?', '?', '?', '?'], ['?', '?', '?', '?', '?', '?'], ['?', '?', '?', '?', '?', '?']]\n",
      "Specific Hypothesis: \n",
      "\n",
      "['Sunny' 'Warm' '?' 'Strong' '?' '?']\n",
      "General Hypothesis: \n",
      "\n",
      "[['Sunny', '?', '?', '?', '?', '?'], ['?', 'Warm', '?', '?', '?', '?']]\n"
     ]
    }
   ],
   "source": [
    "import numpy as np\n",
    "import pandas as pd\n",
    "\n",
    "dataset=pd.read_csv('2.csv')\n",
    "\n",
    "concepts=np.array(dataset.iloc[:,0:-1])\n",
    "target=np.array(dataset.iloc[:,-1])\n",
    "\n",
    "def learn(concepts,target):\n",
    "    specific_h=concepts[0].copy()\n",
    "    print('Initial Specific Hypothesis:\\n',specific_h)\n",
    "    general_h=[['?' for i in range(len(specific_h))] for i in range(len(specific_h))]\n",
    "    print(\"General Hypothesis:\\n\",general_h)\n",
    "\n",
    "    for i,h in enumerate(concepts):\n",
    "        if target[i]=='yes':\n",
    "            print(\"If Instance is Postivie\")\n",
    "            for x in range(len(specific_h)):\n",
    "                if h[x]!=specific_h[x]:\n",
    "                    specific_h[x]='?'\n",
    "                    general_h[x][x]='?'\n",
    "\n",
    "        if target[i]=='no':\n",
    "            print(\"If Instance is Negative\")    \n",
    "            for x in range(len(specific_h)):\n",
    "                if h[x]!=specific_h[x]:\n",
    "                    general_h[x][x]=specific_h[x]\n",
    "                else:\n",
    "                    general_h[x][x]='?'\n",
    "        print(\" step{}: \" .format(i+1))\n",
    "        print(\"Specific hypothesis: \",specific_h)\n",
    "        print(\"General Hypothesis: \",general_h)\n",
    "        \n",
    "    indices=[i for i, val in enumerate(general_h) if val==['?','?','?','?','?','?']]\n",
    "    for i in indices:\n",
    "        general_h.remove(['?','?','?','?','?','?'])\n",
    "\n",
    "    return specific_h,general_h\n",
    "\n",
    "s_final,g_final=learn(concepts,target)\n",
    "print(\"Specific Hypothesis: \\n\",s_final,sep=\"\\n\")\n",
    "print(\"General Hypothesis: \\n\",g_final,sep=\"\\n\")\n",
    "    "
   ]
  },
  {
   "cell_type": "code",
   "execution_count": null,
   "id": "3501d77f-64e4-41b2-a758-09efcb11ee2c",
   "metadata": {},
   "outputs": [],
   "source": []
  }
 ],
 "metadata": {
  "kernelspec": {
   "display_name": "Python 3 (ipykernel)",
   "language": "python",
   "name": "python3"
  },
  "language_info": {
   "codemirror_mode": {
    "name": "ipython",
    "version": 3
   },
   "file_extension": ".py",
   "mimetype": "text/x-python",
   "name": "python",
   "nbconvert_exporter": "python",
   "pygments_lexer": "ipython3",
   "version": "3.11.7"
  }
 },
 "nbformat": 4,
 "nbformat_minor": 5
}
